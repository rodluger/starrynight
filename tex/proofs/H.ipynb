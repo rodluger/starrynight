{
 "cells": [
  {
   "cell_type": "markdown",
   "metadata": {},
   "source": [
    "## Solution for $\\mathbb{H}_{u,v}$"
   ]
  },
  {
   "cell_type": "markdown",
   "metadata": {},
   "source": [
    "In this notebook we validate our recursive solution to the integral $\\mathbb{H}$."
   ]
  },
  {
   "cell_type": "code",
   "execution_count": 4,
   "metadata": {},
   "outputs": [],
   "source": [
    "import sympy\n",
    "from sympy import *\n",
    "import numpy as np\n",
    "np.random.seed(0)"
   ]
  },
  {
   "cell_type": "code",
   "execution_count": 5,
   "metadata": {},
   "outputs": [
    {
     "name": "stdout",
     "output_type": "stream",
     "text": [
      "\n",
      "Using sympy version 1.4\n"
     ]
    }
   ],
   "source": [
    "# Initialize the session\n",
    "init_session(quiet=True)\n",
    "print(\"Using sympy version\", sympy.__version__)\n",
    "\n",
    "# Define our symbols\n",
    "phi, lam1, lam2 = symbols('phi lambda_1 lambda_2')\n",
    "lam = Array((lam1, lam2))"
   ]
  },
  {
   "cell_type": "markdown",
   "metadata": {},
   "source": [
    "Here's the exact version of the integral, computed with `sympy`:"
   ]
  },
  {
   "cell_type": "code",
   "execution_count": 6,
   "metadata": {},
   "outputs": [],
   "source": [
    "def Hexact(u, v):\n",
    "    return integrate(cos(phi) ** u * sin(phi) ** v, (phi, lam1, lam2))"
   ]
  },
  {
   "cell_type": "markdown",
   "metadata": {},
   "source": [
    "Here's our recursive version:"
   ]
  },
  {
   "cell_type": "code",
   "execution_count": 7,
   "metadata": {},
   "outputs": [],
   "source": [
    "def Delta(x):\n",
    "    return x[1] - x[0]\n",
    "\n",
    "\n",
    "def H(u, v):\n",
    "    if u == v == 0:\n",
    "        return Delta(lam)\n",
    "    elif u == 1 and v == 0:\n",
    "        return Delta(lam.applyfunc(sin))\n",
    "    elif u == 0 and v == 1:\n",
    "        return Delta(lam.applyfunc(lambda x: -cos(x)))\n",
    "    elif u == 1 and v == 1:\n",
    "        return Delta(lam.applyfunc(lambda x: -cos(x) ** 2 / 2))\n",
    "    elif u < 2 and v >= 2:\n",
    "        return (\n",
    "            Delta(lam.applyfunc(lambda x: -cos(x) ** (u + 1) * sin(x) ** (v - 1)))\n",
    "            + (v - 1) * H(u, v - 2)\n",
    "        ) / (u + v)\n",
    "    else:\n",
    "        return (\n",
    "            Delta(lam.applyfunc(lambda x: cos(x) ** (u - 1) * sin(x) ** (v + 1)))\n",
    "            + (u - 1) * H(u - 2, v)\n",
    "        ) / (u + v)"
   ]
  },
  {
   "cell_type": "markdown",
   "metadata": {},
   "source": [
    "`sympy` has a little trouble checking for the analytical equivalence of the expressions as `u` and `v` get large, so let's check that the expressions agree numerically for several different values of $\\lambda$:"
   ]
  },
  {
   "cell_type": "code",
   "execution_count": 9,
   "metadata": {},
   "outputs": [],
   "source": [
    "for i in range(10):\n",
    "    x1, x2 = np.random.random(2) * 2 * np.pi\n",
    "    for u in range(5):\n",
    "        for v in range(5):\n",
    "            diff = (H(u, v) - Hexact(u, v)).replace(lam1, x1).replace(lam2, x2)\n",
    "            assert abs(diff) < 1e-15"
   ]
  }
 ],
 "metadata": {
  "kernelspec": {
   "display_name": "Python 3",
   "language": "python",
   "name": "python3"
  },
  "language_info": {
   "codemirror_mode": {
    "name": "ipython",
    "version": 3
   },
   "file_extension": ".py",
   "mimetype": "text/x-python",
   "name": "python",
   "nbconvert_exporter": "python",
   "pygments_lexer": "ipython3",
   "version": "3.7.4"
  }
 },
 "nbformat": 4,
 "nbformat_minor": 2
}
