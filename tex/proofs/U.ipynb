{
 "cells": [
  {
   "cell_type": "markdown",
   "metadata": {},
   "source": [
    "## Solution for $\\mathbb{u}_v$"
   ]
  },
  {
   "cell_type": "markdown",
   "metadata": {},
   "source": [
    "In this notebook we validate our solution to the integral $\\mathbb{u}$."
   ]
  },
  {
   "cell_type": "code",
   "execution_count": 17,
   "metadata": {},
   "outputs": [],
   "source": [
    "import sympy\n",
    "from sympy import *\n",
    "from sympy.assumptions import assuming, Q\n",
    "from sympy.assumptions.assume import global_assumptions"
   ]
  },
  {
   "cell_type": "code",
   "execution_count": 16,
   "metadata": {},
   "outputs": [
    {
     "name": "stdout",
     "output_type": "stream",
     "text": [
      "\n",
      "Using sympy version 1.4\n"
     ]
    }
   ],
   "source": [
    "# Initialize the session\n",
    "init_session(quiet=True)\n",
    "print(\"Using sympy version\", sympy.__version__)\n",
    "\n",
    "# Define our symbols\n",
    "phi = symbols('phi')\n",
    "v = symbols('v', integer=True)\n",
    "global_assumptions.add(Q.positive(v))"
   ]
  },
  {
   "cell_type": "code",
   "execution_count": 18,
   "metadata": {},
   "outputs": [
    {
     "data": {
      "image/png": "[encoded data removed]",
      "text/latex": [
       "$\\displaystyle \\begin{cases} \\frac{\\sin^{2}{\\left(\\phi \\right)} \\sin^{2 v}{\\left(\\phi \\right)}}{2 v + 2} & \\text{for}\\: v \\neq -1 \\\\\\log{\\left(\\sin{\\left(\\phi \\right)} \\right)} & \\text{otherwise} \\end{cases}$"
      ],
      "text/plain": [
       "⎧   2       2⋅v               \n",
       "⎪sin (φ)⋅sin   (φ)            \n",
       "⎪─────────────────  for v ≠ -1\n",
       "⎨     2⋅v + 2                 \n",
       "⎪                             \n",
       "⎪   log(sin(φ))     otherwise \n",
       "⎩                             "
      ]
     },
     "execution_count": 18,
     "metadata": {},
     "output_type": "execute_result"
    }
   ],
   "source": [
    "integrate(\n",
    "    cos(phi) * sin(phi) ** (2 * v + 1),\n",
    "    phi\n",
    ")"
   ]
  },
  {
   "cell_type": "markdown",
   "metadata": {},
   "source": [
    "We only need this integral for $v \\ge 0$, so the indefinite integral is"
   ]
  },
  {
   "cell_type": "markdown",
   "metadata": {},
   "source": [
    "$\n",
    "\\frac{\\sin^{2v + 2}\\phi}{2v + 2}\n",
    "$"
   ]
  },
  {
   "cell_type": "markdown",
   "metadata": {},
   "source": [
    "as expected."
   ]
  }
 ],
 "metadata": {
  "kernelspec": {
   "display_name": "Python 3",
   "language": "python",
   "name": "python3"
  },
  "language_info": {
   "codemirror_mode": {
    "name": "ipython",
    "version": 3
   },
   "file_extension": ".py",
   "mimetype": "text/x-python",
   "name": "python",
   "nbconvert_exporter": "python",
   "pygments_lexer": "ipython3",
   "version": "3.7.4"
  }
 },
 "nbformat": 4,
 "nbformat_minor": 2
}
